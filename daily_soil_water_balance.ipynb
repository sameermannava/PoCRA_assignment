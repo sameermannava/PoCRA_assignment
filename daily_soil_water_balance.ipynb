{
 "cells": [
  {
   "cell_type": "code",
   "execution_count": 31,
   "metadata": {},
   "outputs": [],
   "source": [
    "import numpy as np\n",
    "import pandas as pd\n",
    "\n",
    "df = pd.read_csv(\"daily_rainfall_jalgaon_chalisgaon_talegaon_2022.csv\")\n",
    "\n",
    "def compute_runoff(rain):\n",
    "    if(rain < 0):\n",
    "        return None\n",
    "    if(rain < 25):\n",
    "        return 0.2*rain\n",
    "    if(rain < 50):\n",
    "        return 0.3*rain\n",
    "    if(rain < 75):\n",
    "        return 0.4*rain\n",
    "    if(rain < 100):\n",
    "        return 0.5*rain\n",
    "    return 0.7*rain\n",
    "\n",
    "def compute_data(prev_sm, rain, soil_quality, ):\n",
    "    gamma = 0.2 if(soil_quality == \"deep\") else 0.4\n",
    "    C = 100 if(soil_quality == \"deep\") else 42\n",
    "    runoff = compute_runoff(rain)\n",
    "\n",
    "    crop_uptake = min(prev_sm + rain - runoff, 4)\n",
    "    infiltration = prev_sm + rain - runoff - crop_uptake\n",
    "    \n",
    "    excess = max(infiltration - C, 0)\n",
    "    sm_plus_gw = infiltration - excess\n",
    "\n",
    "    sm = sm_plus_gw/(1+gamma)\n",
    "    gw = sm_plus_gw - sm\n",
    "\n",
    "    return rain, runoff + excess, crop_uptake, sm, gw"
   ]
  },
  {
   "cell_type": "code",
   "execution_count": 32,
   "metadata": {},
   "outputs": [
    {
     "name": "stdout",
     "output_type": "stream",
     "text": [
      "<class 'str'>\n"
     ]
    }
   ],
   "source": [
    "deep_file = open(\"output/deep_sm.csv\", \"w\")\n",
    "shallow_file = open(\"output/shallow_sm.csv\", \"w\")\n",
    "deep_file.write(\"date,rain_mm,total_runoff_mm,crop_water_uptake_mm,soil_moisture_mm,percolation_to_groundwater_mm\\n\")\n",
    "shallow_file.write(\"date,rain_mm,total_runoff_mm,crop_water_uptake_mm,soil_moisture_mm,percolation_to_groundwater_mm\\n\")\n",
    "\n",
    "# assuming initial soil moisture is 0\n",
    "deep_prev_sm = 0\n",
    "shallow_prev_sm = 0\n",
    "\n",
    "for i in range(len(df[\"rain_mm\"])):\n",
    "    deep_data = compute_data(deep_prev_sm, df[\"rain_mm\"][i], \"deep\")\n",
    "    shallow_data = compute_data(shallow_prev_sm, df[\"rain_mm\"][i], \"shallow\")\n",
    "    \n",
    "    deep_file.write(df[\"date\"][i])\n",
    "    for j in range(len(deep_data)):\n",
    "        deep_file.write(\",\" + str(deep_data[j]))\n",
    "    \n",
    "    shallow_file.write(df[\"date\"][i])\n",
    "    for j in range(len(shallow_data)):\n",
    "        shallow_file.write(\",\" + str(shallow_data[j]))\n",
    "    \n",
    "    deep_prev_sm = "
   ]
  }
 ],
 "metadata": {
  "kernelspec": {
   "display_name": "Python 3",
   "language": "python",
   "name": "python3"
  },
  "language_info": {
   "codemirror_mode": {
    "name": "ipython",
    "version": 3
   },
   "file_extension": ".py",
   "mimetype": "text/x-python",
   "name": "python",
   "nbconvert_exporter": "python",
   "pygments_lexer": "ipython3",
   "version": "3.10.11"
  },
  "orig_nbformat": 4
 },
 "nbformat": 4,
 "nbformat_minor": 2
}
